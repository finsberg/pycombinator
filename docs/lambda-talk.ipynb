{
 "cells": [
  {
   "cell_type": "markdown",
   "id": "4fe23b10",
   "metadata": {},
   "source": [
    "# Lambda as py, or a flock of functions\n",
    "\n",
    "## Combinators, Lambda Calculus, and Church Encodings in JavaScript\n",
    "\n",
    "### Notes for [a talk by Gabriel Lebec (click for videos and slides)](https://github.com/glebec/lambda-talk)\n"
   ]
  },
  {
   "cell_type": "code",
   "execution_count": 1,
   "id": "90be48c3",
   "metadata": {},
   "outputs": [],
   "source": [
    "def header(text):\n",
    "    print(\"\\n\\033[1m\\033[4m\", text, \"\\033[0m\\n\")\n",
    "\n",
    "\n",
    "def demo(text, boolean):\n",
    "    from types import FunctionType\n",
    "    if isinstance(boolean, FunctionType):\n",
    "        # We have an LC type boolean\n",
    "        boolean = boolean(True)(False)\n",
    "    if not isinstance(boolean, bool):\n",
    "        raise TypeError(\"Expected a boolean as the second argument\")\n",
    "    mark = \"\\033[92m✔\\033[0m\" if boolean else \"\\033[91m✖\\033[0m\"\n",
    "    print(boolean, mark, text)"
   ]
  },
  {
   "cell_type": "markdown",
   "id": "c33d37b0",
   "metadata": {},
   "source": [
    "## Introduction\n",
    "\n",
    "The Lambda Calculus is a symbol manipulation framework developed by the mathematician Alonzo Church in the 1930s. It was intended to be an extremely tiny syntax which could nevertheless suffice to calculate anything computable. The mathematical advantage of such a syntax is that with such extreme simplicity, it becomes easier to write formal proofs about computational logic – demonstrated when Church solved David Hilbert's famous Decision Problem using LC.\n",
    "\n",
    "Another famous mathematician, Alan Turing, formulated a different model of universal computation – the eponymous Turing Machine. A TM is a hypothetical device, again of extreme simplicity; it can read or write to cells on an infinite tape, each cell containing data or instructions. Turing published a paper also solving the Decision Problem, mere months after Church.\n",
    "\n",
    "Turing proved that the Turing Machine and Lambda Calculus are totally equivalent. Everything that one can calculate, the other can. Not only this, but Turing and Church posited (in the \"Church-Turing Thesis\") that these systems capture the definition of computability in a universal way.\n",
    "\n",
    "Turing Machines are exciting because if a hypothetical machine can compute anything computable, then perhaps a real machine can as well. Modern computers add many features and optimizations beyond what is featured in an actual Turing Machine; these features make the machine more convenient and performant, but do not compromise its essential nature as a universal computing device.\n",
    "\n",
    "As machine codes, assemblers, compilers, and higher-level languages have developed to program these real machines, they have largely evolved with a focus on the essence of the machine – memory, statefulness, effects, imperative instructions and so forth. Over time, some of these languages have shifted ever farther into pure abstractions and conceptual description over more machine-centric and stateful models.\n",
    "\n",
    "However, mathematicians and computer scientists have long known that the entirely abstract lambda calculus, being equivalent to a TM, meant that computations could be expressed in a style totally independent from machine instructions. Instead, a language consisting of first-class function expressions – aka lambda abstractions – could be subsequently compiled into machine code. Such a language would benefit from decades of mathematical research. And just as real computers extend Turing Machines with extra power and convenience, these _functional languages_ would extend the lambda calculus with additional features and under-the-hood shortcuts (such as hardware-based arithmetic).\n",
    "\n",
    "What follows is a demonstration, mostly for enjoyment and insight, of the surprising and delightful omnipotence of the lambda calculus. Python, like any functional language, is closely related to LC; it contains the necessary ingredients (variables, parentheses, first-class functions) nestled among the additional luxuries most programmers take for granted.\n",
    "\n",
    "## First steps with simple combinators\n",
    "\n",
    "Starting simple. A lambda abstraction is simply an anonymous unary function. In LC there are no named functions, but for convenience we will use names. In mathematical notation, `:=` means \"is defined as\".\n",
    "\n",
    "\n",
    "## Identity\n",
    "\n",
    "Here is an almost trivial function: Identity, defined as `λx.x`. `λ` is used to indicate the start of a lambda abstraction (read: function expression). The sole parameter is listed to the left of the `.`, and the return expression is written after the `.`"
   ]
  },
  {
   "cell_type": "code",
   "execution_count": 2,
   "id": "1b27abde",
   "metadata": {},
   "outputs": [
    {
     "name": "stdout",
     "output_type": "stream",
     "text": [
      "\n",
      "\u001b[1m\u001b[4m Idiot := I := λx.x \u001b[0m\n",
      "\n"
     ]
    }
   ],
   "source": [
    "header(\"Idiot := I := λx.x\")\n",
    "I = lambda x: x"
   ]
  },
  {
   "cell_type": "markdown",
   "id": "60559066",
   "metadata": {},
   "source": [
    "In LC, variables may be static tokens that stand for whatever you want. We'll use python strings for this."
   ]
  },
  {
   "cell_type": "code",
   "execution_count": 3,
   "id": "2e4a737b",
   "metadata": {},
   "outputs": [],
   "source": [
    "tweet = \"tweet\"\n",
    "chirp = \"chirp\""
   ]
  },
  {
   "attachments": {},
   "cell_type": "markdown",
   "id": "081e0aad",
   "metadata": {},
   "source": [
    "In LC, juxtaposition is function application. That is, `M I` means \"apply the `M` function to the `I` argument\". A space is not strictly necessary; `fx` usually means \"apply `f` to `x`\". Some of our examples will use multi-letter variables; to disambiguate them from multiple single-letter variables, we will frequently use SPACED UPPERCASE.\n",
    "```\n",
    "I tweet\n",
    "= (λx.x) tweet\n",
    "= tweet\n",
    "```"
   ]
  },
  {
   "cell_type": "code",
   "execution_count": 4,
   "id": "11676e06",
   "metadata": {
    "lines_to_next_cell": 2
   },
   "outputs": [
    {
     "name": "stdout",
     "output_type": "stream",
     "text": [
      "True \u001b[92m✔\u001b[0m I tweet = tweet\n",
      "True \u001b[92m✔\u001b[0m I chirp = chirp\n"
     ]
    }
   ],
   "source": [
    "demo('I tweet = tweet', I(tweet) == tweet)\n",
    "demo('I chirp = chirp', I(chirp) == chirp)"
   ]
  },
  {
   "attachments": {},
   "cell_type": "markdown",
   "id": "fa30129f",
   "metadata": {},
   "source": [
    "In LC, valid arguments include other lambda abstractions. This is the meaning of \"first-class\" in the phrase \"first-class functions\"; functions are values which may be passed into or returned from other functions. In this sense, functions are both like verbs (they can perform a calculation) and nouns (they can be the subject or object of a calculation).\n",
    "\n",
    "```\n",
    "I I\n",
    "= (λx.x)(λx.x)\n",
    "= λx.x\n",
    "```\n"
   ]
  },
  {
   "cell_type": "code",
   "execution_count": 5,
   "id": "5c7c1df1",
   "metadata": {
    "scrolled": true
   },
   "outputs": [
    {
     "name": "stdout",
     "output_type": "stream",
     "text": [
      "True \u001b[92m✔\u001b[0m I I = I\n"
     ]
    }
   ],
   "source": [
    "demo('I I = I', I(I) == I)"
   ]
  },
  {
   "attachments": {},
   "cell_type": "markdown",
   "id": "ccddda6f",
   "metadata": {},
   "source": [
    "Of course we can build up more complex expressions. In LC, function application associates left; that is, `a b c d` = `((a b) c) d`. Evaluating terms by substituting arguments into function bodies has the fancy term of \"β-reduction\". A reducible expression (or \"redex\") that has been completely simplified in this fashion is said to be in its \"β-normal\" or just \"normal\" form.\n",
    "\n",
    "```\n",
    "     id    id       id    id  tweet   <--- the initial reducible expression (\"redex\")\n",
    "= (((id    id)      id)   id) tweet   <--- application associates left\n",
    "= ((    id          id)   id) tweet   <--- evaluating function applications (\"β-reduction\")\n",
    "= (           id          id) tweet   <--- continuing β-reduction\n",
    "=                    id       tweet   <--- more β-reduction\n",
    "=                             tweet   <--- normal form of the original redex\n",
    "```\n",
    "\n",
    "LC has great overlap with combinatory logic. A pioneer of CL was the mathematician Haskell Curry, whose name now adorns the Haskell language as well as the functional concept of currying. (Curry actually cited the technique from Schönfinkel, and Frege used it even earlier.) Combinatory logic is concerned with combinators, that is, functions which operate only on their inputs. The Identity function is a combinator, often abbreviated I, sometimes called the Idiot bird.\n"
   ]
  },
  {
   "cell_type": "code",
   "execution_count": 6,
   "id": "1e6a3893",
   "metadata": {},
   "outputs": [
    {
     "name": "stdout",
     "output_type": "stream",
     "text": [
      "\n",
      "\u001b[1m\u001b[4m Idiot := I \u001b[0m\n",
      "\n"
     ]
    }
   ],
   "source": [
    "header('Idiot := I')\n",
    "Idiot = I"
   ]
  },
  {
   "cell_type": "markdown",
   "id": "24aa2271",
   "metadata": {},
   "source": [
    "## Self-Application\n",
    "\n",
    "Curry was an avid birdwatcher, and the logician Raymond Smullyan named many combinators after birds in his honor. The self-application combinator M (for \"Mockingbird\"), aka ω (lowercase omega), looks like this:\n"
   ]
  },
  {
   "cell_type": "code",
   "execution_count": 7,
   "id": "af72ae00",
   "metadata": {
    "lines_to_next_cell": 2
   },
   "outputs": [
    {
     "name": "stdout",
     "output_type": "stream",
     "text": [
      "\n",
      "\u001b[1m\u001b[4m Mockingbird := M := ω := λf.ff \u001b[0m\n",
      "\n"
     ]
    }
   ],
   "source": [
    "header(\"Mockingbird := M := ω := λf.ff\")"
   ]
  },
  {
   "cell_type": "markdown",
   "id": "99e1cf5f",
   "metadata": {},
   "source": [
    "Remember, `fx` means \"apply f to x.\" So `ff` means \"apply f to itself\"."
   ]
  },
  {
   "cell_type": "code",
   "execution_count": 8,
   "id": "b2c364f8",
   "metadata": {},
   "outputs": [],
   "source": [
    "ω = lambda fn: fn(fn)\n",
    "M = ω\n",
    "Mockingbird = M"
   ]
  },
  {
   "attachments": {},
   "cell_type": "markdown",
   "id": "d663e182",
   "metadata": {},
   "source": [
    "Can you guess what the Mockingbird of Identity is?\n",
    "\n",
    "```\n",
    "M I\n",
    "= (λf.ff)(λx.x)\n",
    "= (λx.x)(λx.x) = I I\n",
    "= λx.x = I\n",
    "```\n",
    "\n",
    "That's right, it's the same as Identity of Identity… which is Identity."
   ]
  },
  {
   "cell_type": "code",
   "execution_count": 9,
   "id": "42f25de4",
   "metadata": {},
   "outputs": [
    {
     "name": "stdout",
     "output_type": "stream",
     "text": [
      "True \u001b[92m✔\u001b[0m M I = I I = I\n"
     ]
    }
   ],
   "source": [
    "demo('M I = I I = I', M(I) == I(I) == I)"
   ]
  },
  {
   "attachments": {},
   "cell_type": "markdown",
   "id": "b8a26e82",
   "metadata": {},
   "source": [
    "What about… the Mockingbird of Mockingbird?\n",
    "\n",
    "That's the Ω (big Omega) Combinator. It diverges (goes on forever).\n",
    "\n",
    "```\n",
    "M M\n",
    "= (λf.ff)(λf.ff)\n",
    "= (λf.ff)(λf.ff)\n",
    "= (λf.ff)(λf.ff)\n",
    "= (λf.ff)(λf.ff)\n",
    "...\n",
    "```"
   ]
  },
  {
   "cell_type": "code",
   "execution_count": 10,
   "id": "1f733c03",
   "metadata": {
    "lines_to_next_cell": 2
   },
   "outputs": [
    {
     "name": "stdout",
     "output_type": "stream",
     "text": [
      "maximum recursion depth exceeded\n"
     ]
    }
   ],
   "source": [
    "try:\n",
    "    M(M)\n",
    "except RecursionError as ex:\n",
    "    print(ex)"
   ]
  },
  {
   "cell_type": "markdown",
   "id": "80a4d52f",
   "metadata": {},
   "source": [
    "## Church Encodings: Booleans"
   ]
  },
  {
   "cell_type": "code",
   "execution_count": 11,
   "id": "4005bb63",
   "metadata": {
    "scrolled": true
   },
   "outputs": [
    {
     "name": "stdout",
     "output_type": "stream",
     "text": [
      "\n",
      "\u001b[1m\u001b[4m First encodings: boolean value functions \u001b[0m\n",
      "\n"
     ]
    }
   ],
   "source": [
    "header('First encodings: boolean value functions')"
   ]
  },
  {
   "cell_type": "markdown",
   "id": "b782c5e9",
   "metadata": {},
   "source": [
    "OK this is nice and all, but how can we do anything real with only functions? Let's start with booleans. Here we need some multi-arg functions… in lambda calc, `λabc.a` is just shorthand for `λa.λb.λc.a`, or `λa.(λb.(λc.a)))`. In other words, all functions are curried.\n",
    "\n",
    "### True and False\n"
   ]
  },
  {
   "cell_type": "code",
   "execution_count": 12,
   "id": "2337a9e4",
   "metadata": {
    "lines_to_next_cell": 2
   },
   "outputs": [
    {
     "name": "stdout",
     "output_type": "stream",
     "text": [
      "\n",
      "\u001b[1m\u001b[4m T := λxy.x \u001b[0m\n",
      "\n"
     ]
    }
   ],
   "source": [
    "header(\"T := λxy.x\")\n",
    "T = lambda thn: lambda els: thn"
   ]
  },
  {
   "cell_type": "code",
   "execution_count": 13,
   "id": "53702fb9",
   "metadata": {},
   "outputs": [
    {
     "name": "stdout",
     "output_type": "stream",
     "text": [
      "\n",
      "\u001b[1m\u001b[4m F := λxy.y \u001b[0m\n",
      "\n"
     ]
    }
   ],
   "source": [
    "header(\"F := λxy.y\")\n",
    "F = lambda thn: lambda els: els"
   ]
  },
  {
   "cell_type": "markdown",
   "id": "37952667",
   "metadata": {},
   "source": [
    "Hm. How can \"true\" and \"false\" be functions? Well, the point of booleans is to _select_ between a then-case and an else-case. The LC booleans are just functions which do that! `T` takes two vals and returns the first; `F` takes two vals and returns the second. If you apply an unknown bool func to two vals, the first val will be returned if the bool was true, else the second val will be returned."
   ]
  },
  {
   "cell_type": "code",
   "execution_count": 14,
   "id": "9aa3d410",
   "metadata": {},
   "outputs": [
    {
     "name": "stdout",
     "output_type": "stream",
     "text": [
      "True \u001b[92m✔\u001b[0m T tweet chirp = tweet\n",
      "True \u001b[92m✔\u001b[0m F tweet chirp = chirp\n"
     ]
    }
   ],
   "source": [
    "demo('T tweet chirp = tweet', T(tweet)(chirp) == tweet)\n",
    "demo('F tweet chirp = chirp', F(tweet)(chirp) == chirp)"
   ]
  },
  {
   "cell_type": "markdown",
   "id": "6535315d",
   "metadata": {},
   "source": [
    "### Flipping Arguments\n",
    "\n",
    "Another fun way we could have produced F was with the Cardinal combinator. The Cardinal, aka `C`, aka `flip`, takes a binary (two-argument) function, and produces a function with reversed argument order."
   ]
  },
  {
   "cell_type": "code",
   "execution_count": 15,
   "id": "bef2adf2",
   "metadata": {
    "scrolled": true
   },
   "outputs": [
    {
     "name": "stdout",
     "output_type": "stream",
     "text": [
      "\n",
      "\u001b[1m\u001b[4m Cardinal := C := flip := λfab.fba \u001b[0m\n",
      "\n"
     ]
    }
   ],
   "source": [
    "header(\"Cardinal := C := flip := λfab.fba\")\n",
    "flip = lambda func: lambda a: lambda b: func(b)(a)\n",
    "C = flip\n",
    "Cardinal = C"
   ]
  },
  {
   "cell_type": "markdown",
   "id": "52b59477",
   "metadata": {},
   "source": [
    "With the Cardinal, we can derive `F` from the flip of `T`:"
   ]
  },
  {
   "cell_type": "code",
   "execution_count": 16,
   "id": "4fc1b4fd",
   "metadata": {},
   "outputs": [
    {
     "name": "stdout",
     "output_type": "stream",
     "text": [
      "\n",
      "\u001b[1m\u001b[4m F = C T \u001b[0m\n",
      "\n"
     ]
    }
   ],
   "source": [
    "header(\"F = C T\")"
   ]
  },
  {
   "cell_type": "code",
   "execution_count": 17,
   "id": "9dd71871",
   "metadata": {
    "lines_to_next_cell": 2
   },
   "outputs": [
    {
     "name": "stdout",
     "output_type": "stream",
     "text": [
      "True \u001b[92m✔\u001b[0m flip T tweet chirp = chirp\n"
     ]
    }
   ],
   "source": [
    "demo('flip T tweet chirp = chirp', flip(T)(tweet)(chirp) == chirp)"
   ]
  },
  {
   "cell_type": "markdown",
   "id": "11ee6d59",
   "metadata": {},
   "source": [
    "Regardless of whether you define `F` manually, or as the flip of `T`, these functions are _encodings_ of boolean values. They represent booleans in useful and meaningful ways, which preserve the behavior of the values. Specifically, they are Church encodings – representations developed / discovered by Alonzo Church. Their real power is revealed when we start defining logical operations on them.\n",
    "\n",
    "### Negation"
   ]
  },
  {
   "cell_type": "code",
   "execution_count": 18,
   "id": "924b1f6e",
   "metadata": {},
   "outputs": [
    {
     "name": "stdout",
     "output_type": "stream",
     "text": [
      "\n",
      "\u001b[1m\u001b[4m NOT := λb.bFT \u001b[0m\n",
      "\n"
     ]
    }
   ],
   "source": [
    "header(\"NOT := λb.bFT\")\n",
    "NOT = lambda chooseOne: chooseOne(F)(T)"
   ]
  },
  {
   "attachments": {},
   "cell_type": "markdown",
   "id": "998c6e09",
   "metadata": {},
   "source": [
    "Remember, booleans in the LC are really functions which select one of two arguments. Try reducing the expression `NOT T` yourself, then check your work below.\n",
    "```\n",
    "NOT T\n",
    "= (λb.bFT) T\n",
    "= TFT\n",
    "= (λxy.x) F T\n",
    "= F\n",
    "```"
   ]
  },
  {
   "cell_type": "code",
   "execution_count": 19,
   "id": "957d1d25",
   "metadata": {},
   "outputs": [
    {
     "name": "stdout",
     "output_type": "stream",
     "text": [
      "True \u001b[92m✔\u001b[0m NOT T = F\n",
      "True \u001b[92m✔\u001b[0m NOT F = T\n"
     ]
    }
   ],
   "source": [
    "demo('NOT T = F', NOT(T) == F)\n",
    "demo('NOT F = T', NOT(F) == T)"
   ]
  },
  {
   "cell_type": "markdown",
   "id": "336fa661",
   "metadata": {},
   "source": [
    "There's another way we could define `NOT`, however, and we've already seen it. Remember how the flip of `T` (aka the Cardinal of `T`) is `F`? It works the other way too – `C F = T`! At least, `C F` yields a function that behaves identically to `T`:"
   ]
  },
  {
   "cell_type": "code",
   "execution_count": 20,
   "id": "03d0f24e",
   "metadata": {
    "lines_to_next_cell": 2
   },
   "outputs": [
    {
     "name": "stdout",
     "output_type": "stream",
     "text": [
      "True \u001b[92m✔\u001b[0m CF = T\n",
      "True \u001b[92m✔\u001b[0m CT = F\n"
     ]
    }
   ],
   "source": [
    "demo('CF = T', C(F)(tweet)(chirp) == tweet)\n",
    "demo('CT = F', C(T)(tweet)(chirp) == chirp)"
   ]
  },
  {
   "cell_type": "markdown",
   "id": "2db14a47",
   "metadata": {},
   "source": [
    "This means that when it comes to Church encodings of booleans, the Cardinal behaves just like our manually-defined `NOT`.\n",
    "\n",
    "### Conjunction and Disjunction\n",
    "\n",
    "Can you construct a function for boolean `AND`? It will have to take two unknown boolean functions as parameters, and route to an output of the correct boolean result. Give it a try."
   ]
  },
  {
   "cell_type": "code",
   "execution_count": 21,
   "id": "b76727f7",
   "metadata": {},
   "outputs": [
    {
     "name": "stdout",
     "output_type": "stream",
     "text": [
      "\n",
      "\u001b[1m\u001b[4m AND := λpq.pqF \u001b[0m\n",
      "\n"
     ]
    }
   ],
   "source": [
    "header(\"AND := λpq.pqF\")"
   ]
  },
  {
   "cell_type": "markdown",
   "id": "b69031f6",
   "metadata": {},
   "source": [
    "(λpq.pqp also works; can you see why?)"
   ]
  },
  {
   "cell_type": "code",
   "execution_count": 22,
   "id": "b8d405a3",
   "metadata": {},
   "outputs": [],
   "source": [
    "AND = lambda p: lambda q: p(q)(F)"
   ]
  },
  {
   "cell_type": "code",
   "execution_count": 23,
   "id": "a71cfab8",
   "metadata": {
    "lines_to_next_cell": 2
   },
   "outputs": [
    {
     "name": "stdout",
     "output_type": "stream",
     "text": [
      "True \u001b[92m✔\u001b[0m AND F F = F\n",
      "True \u001b[92m✔\u001b[0m AND T F = F\n",
      "True \u001b[92m✔\u001b[0m AND F T = F\n",
      "True \u001b[92m✔\u001b[0m AND T T = T\n"
     ]
    }
   ],
   "source": [
    "demo('AND F F = F', AND(F)(F) == F)\n",
    "demo('AND T F = F', AND(T)(F) == F)\n",
    "demo('AND F T = F', AND(F)(T) == F)\n",
    "demo('AND T T = T', AND(T)(T) == T)"
   ]
  },
  {
   "cell_type": "markdown",
   "id": "aa4fa81e",
   "metadata": {},
   "source": [
    "If you work through the logic, you might notice that this function exhibits short-circuiting. If `p = F`, we don't bother using `q`. Similarly, our `OR` function below short circuits; if `p = T`, we don't bother using `q`."
   ]
  },
  {
   "cell_type": "code",
   "execution_count": 24,
   "id": "a41c3757",
   "metadata": {},
   "outputs": [
    {
     "name": "stdout",
     "output_type": "stream",
     "text": [
      "\n",
      "\u001b[1m\u001b[4m OR := λpq.pTq \u001b[0m\n",
      "\n"
     ]
    }
   ],
   "source": [
    "header(\"OR := λpq.pTq\")"
   ]
  },
  {
   "cell_type": "markdown",
   "id": "8ba713dd",
   "metadata": {},
   "source": [
    "(λpq.ppq also works)"
   ]
  },
  {
   "cell_type": "code",
   "execution_count": 25,
   "id": "1a2f9d3c",
   "metadata": {},
   "outputs": [],
   "source": [
    "OR = lambda p: lambda q: p(T)(q)"
   ]
  },
  {
   "cell_type": "code",
   "execution_count": 26,
   "id": "c3945451",
   "metadata": {
    "lines_to_next_cell": 2
   },
   "outputs": [
    {
     "name": "stdout",
     "output_type": "stream",
     "text": [
      "True \u001b[92m✔\u001b[0m OR F F = F\n",
      "True \u001b[92m✔\u001b[0m OR T F = T\n",
      "True \u001b[92m✔\u001b[0m OR F T = T\n",
      "True \u001b[92m✔\u001b[0m OR T T = T\n"
     ]
    }
   ],
   "source": [
    "demo('OR F F = F', OR(F)(F) == F)\n",
    "demo('OR T F = T', OR(T)(F) == T)\n",
    "demo('OR F T = T', OR(F)(T) == T)\n",
    "demo('OR T T = T', OR(T)(T) == T)"
   ]
  },
  {
   "cell_type": "markdown",
   "id": "c7543b41",
   "metadata": {},
   "source": [
    "`λpq.ppq` also works because if `p` is true, it is supposed to select `T`, but `p = T`, so we can just reuse it. Notice something interesting here: `λpq.ppq` behaves exactly like the Mockingbird. It takes a value, `p`, and self-applies `p` (producing `pp`). Well, `Mp = pp`, and you can apply that result to another value `q`, to get `ppq`; therefore, `Mpq = ppq`. So `M` and `λpq.ppq` behave identically (i.e. they are \"extensionally equivalent\", and in fact `λpq.ppq` is sometimes called `M*` or \"the Mockinbird once-removed\". The Mockingbird works as a boolean `OR` function:"
   ]
  },
  {
   "cell_type": "code",
   "execution_count": 27,
   "id": "346bef03",
   "metadata": {
    "lines_to_next_cell": 2
   },
   "outputs": [
    {
     "name": "stdout",
     "output_type": "stream",
     "text": [
      "True \u001b[92m✔\u001b[0m M F F = F\n",
      "True \u001b[92m✔\u001b[0m M T F = T\n",
      "True \u001b[92m✔\u001b[0m M F T = T\n",
      "True \u001b[92m✔\u001b[0m M T T = T\n"
     ]
    }
   ],
   "source": [
    "demo('M F F = F', M(F)(F) == F)\n",
    "demo('M T F = T', M(T)(F) == T)\n",
    "demo('M F T = T', M(F)(T) == T)\n",
    "demo('M T T = T', M(T)(T) == T)"
   ]
  },
  {
   "cell_type": "markdown",
   "id": "8891cd6c",
   "metadata": {},
   "source": [
    "### Demo: De Morgan's Laws\n",
    "\n",
    "With working booleans, we can illustrate some more complex logic, such as one of De Morgan's Laws: `!(p && q) === (!p) || (!q)`."
   ]
  },
  {
   "cell_type": "code",
   "execution_count": 28,
   "id": "2923b008",
   "metadata": {},
   "outputs": [
    {
     "name": "stdout",
     "output_type": "stream",
     "text": [
      "\n",
      "\u001b[1m\u001b[4m De Morgan: not (and P Q) = or (not P) (not Q) \u001b[0m\n",
      "\n"
     ]
    }
   ],
   "source": [
    "header(\"De Morgan: not (and P Q) = or (not P) (not Q)\")"
   ]
  },
  {
   "cell_type": "code",
   "execution_count": 29,
   "id": "8824b876",
   "metadata": {},
   "outputs": [],
   "source": [
    "def deMorgansLawDemo(p, q):\n",
    "    return NOT(AND(p)(q)) == OR(NOT(p))(NOT(q))"
   ]
  },
  {
   "cell_type": "code",
   "execution_count": 30,
   "id": "f4f32b73",
   "metadata": {
    "lines_to_next_cell": 2
   },
   "outputs": [
    {
     "name": "stdout",
     "output_type": "stream",
     "text": [
      "True \u001b[92m✔\u001b[0m NOT (AND F F) = OR (NOT F) (NOT F)\n",
      "True \u001b[92m✔\u001b[0m NOT (AND T F) = OR (NOT T) (NOT F)\n",
      "True \u001b[92m✔\u001b[0m NOT (AND F T) = OR (NOT F) (NOT T)\n",
      "True \u001b[92m✔\u001b[0m NOT (AND T T) = OR (NOT T) (NOT T)\n"
     ]
    }
   ],
   "source": [
    "demo(\"NOT (AND F F) = OR (NOT F) (NOT F)\", deMorgansLawDemo(F, F))\n",
    "demo(\"NOT (AND T F) = OR (NOT T) (NOT F)\", deMorgansLawDemo(T, F))\n",
    "demo(\"NOT (AND F T) = OR (NOT F) (NOT T)\", deMorgansLawDemo(F, T))\n",
    "demo(\"NOT (AND T T) = OR (NOT T) (NOT T)\", deMorgansLawDemo(T, T))"
   ]
  },
  {
   "cell_type": "markdown",
   "id": "192d0147",
   "metadata": {},
   "source": [
    "### Boolean Equality\n",
    "\n",
    "However, this whole time we have been cheating in the demonstrations. Lambda calculus doesn't have any `===` operator to check for equality! Don't fret though, everything is functions. We can define our own equality function for booleans.\n"
   ]
  },
  {
   "cell_type": "code",
   "execution_count": 31,
   "id": "22987f8b",
   "metadata": {
    "scrolled": false
   },
   "outputs": [
    {
     "name": "stdout",
     "output_type": "stream",
     "text": [
      "\n",
      "\u001b[1m\u001b[4m BEQ := λpq.p (qTF) (qFT) \u001b[0m\n",
      "\n"
     ]
    }
   ],
   "source": [
    "header(\"BEQ := λpq.p (qTF) (qFT)\")\n",
    "BEQ = lambda p: lambda q: p(q(T)(F))(q(F)(T))"
   ]
  },
  {
   "cell_type": "code",
   "execution_count": 32,
   "id": "265a7f8f",
   "metadata": {
    "lines_to_next_cell": 2,
    "scrolled": true
   },
   "outputs": [
    {
     "name": "stdout",
     "output_type": "stream",
     "text": [
      "True \u001b[92m✔\u001b[0m BEQ F F = T: \n",
      "True \u001b[92m✔\u001b[0m BEQ F T = F: \n",
      "True \u001b[92m✔\u001b[0m BEQ T F = F: \n",
      "True \u001b[92m✔\u001b[0m BEQ T T = T: \n"
     ]
    }
   ],
   "source": [
    "demo(\"BEQ F F = T: \", BEQ(BEQ(F)(F))(T))\n",
    "demo(\"BEQ F T = F: \", BEQ(BEQ(F)(T))(F))\n",
    "demo(\"BEQ T F = F: \", BEQ(BEQ(T)(F))(F))\n",
    "demo(\"BEQ T T = T: \", BEQ(BEQ(T)(T))(T))"
   ]
  },
  {
   "cell_type": "markdown",
   "id": "a701d483",
   "metadata": {},
   "source": [
    "Not a Python operator in sight (our `demo` function accepts church encodings). But for clarity's sake, we'll go back to using Python's equality operator in our `demo` calls.\n",
    "\n",
    "\n",
    "## Church Encodings: Numerals"
   ]
  },
  {
   "cell_type": "code",
   "execution_count": 33,
   "id": "e87bfd34",
   "metadata": {
    "lines_to_next_cell": 2
   },
   "outputs": [
    {
     "name": "stdout",
     "output_type": "stream",
     "text": [
      "\n",
      "\u001b[1m\u001b[4m Numbers \u001b[0m\n",
      "\n"
     ]
    }
   ],
   "source": [
    "header(\"Numbers\")"
   ]
  },
  {
   "cell_type": "markdown",
   "id": "df9a4fc4",
   "metadata": {},
   "source": [
    "Booleans are neat, but surely to compute arithmetic you need language-supported math. Right? …Nah. You can construct math from scratch.\n",
    "\n",
    "The Church encoding for a natural number n is an n-fold \"compositor\" (composing combinator). In other words, \"2\" is a function that composes a function `f` twice: `2 f x = f(f(x))`. Whereas \"4\" is a function that composes any `f` four times: `4 f x = f(f(f(f(x)`. In this sense, 2 and 3 can be read more like \"two-fold\" and \"three-fold\", or \"twice\" and \"thrice\".\n",
    "\n",
    "### Hard-Coded Numbers\n",
    "\n",
    "In this system, `ZERO` is a function which applies a function `f` zero times to `x`. So… `ZERO` ignores the function argument, just returning `x`; `0 f x = x`.\n"
   ]
  },
  {
   "cell_type": "code",
   "execution_count": 34,
   "id": "c0065562",
   "metadata": {
    "lines_to_next_cell": 2,
    "scrolled": true
   },
   "outputs": [
    {
     "name": "stdout",
     "output_type": "stream",
     "text": [
      "\n",
      "\u001b[1m\u001b[4m 0 := λfx.x \u001b[0m\n",
      "\n"
     ]
    }
   ],
   "source": [
    "header(\"0 := λfx.x\")"
   ]
  },
  {
   "cell_type": "markdown",
   "id": "646ea0b0",
   "metadata": {},
   "source": [
    "(fun fact, `0 = F`)"
   ]
  },
  {
   "cell_type": "code",
   "execution_count": 35,
   "id": "12457c30",
   "metadata": {
    "lines_to_next_cell": 2
   },
   "outputs": [],
   "source": [
    "ZERO = lambda fn: lambda x: x"
   ]
  },
  {
   "cell_type": "markdown",
   "id": "190c3a02",
   "metadata": {},
   "source": [
    "Zero applications of Mockingbird to `tweet` is just `tweet`. Good thing too, because applying Mockingbird to `tweet` would throw an error in JS (though it would work fine in LC, just by not simplifying further)."
   ]
  },
  {
   "cell_type": "code",
   "execution_count": 36,
   "id": "43b7845c",
   "metadata": {
    "scrolled": true
   },
   "outputs": [
    {
     "name": "stdout",
     "output_type": "stream",
     "text": [
      "True \u001b[92m✔\u001b[0m 0 M tweet = tweet\n"
     ]
    }
   ],
   "source": [
    "demo(\"0 M tweet = tweet\", ZERO(M)(tweet) == tweet)"
   ]
  },
  {
   "cell_type": "markdown",
   "id": "d638b878",
   "metadata": {},
   "source": [
    "We could hard-code `ONCE` as a single application of `f`…"
   ]
  },
  {
   "cell_type": "code",
   "execution_count": 37,
   "id": "ad2468b9",
   "metadata": {},
   "outputs": [
    {
     "name": "stdout",
     "output_type": "stream",
     "text": [
      "\n",
      "\u001b[1m\u001b[4m hard-coded 1 and 2 \u001b[0m\n",
      "\n",
      "\n",
      "\u001b[1m\u001b[4m 1 := λfx.fx \u001b[0m\n",
      "\n"
     ]
    }
   ],
   "source": [
    "header(\"hard-coded 1 and 2\")\n",
    "header(\"1 := λfx.fx\")"
   ]
  },
  {
   "cell_type": "code",
   "execution_count": 38,
   "id": "451a9c28",
   "metadata": {
    "lines_to_next_cell": 2
   },
   "outputs": [],
   "source": [
    "ONCE = lambda fn: lambda x: fn(x)"
   ]
  },
  {
   "cell_type": "markdown",
   "id": "a61f3f75",
   "metadata": {},
   "source": [
    "Another fun fact – this is one step removed from `I`, called `I*` (\"I-star\"). In fact we could have shortened this to be `1 := I`. So 0 is false and 1 is identity, how nice!"
   ]
  },
  {
   "cell_type": "code",
   "execution_count": 39,
   "id": "6917502b",
   "metadata": {
    "scrolled": true
   },
   "outputs": [
    {
     "name": "stdout",
     "output_type": "stream",
     "text": [
      "True \u001b[92m✔\u001b[0m 1 I tweet = tweet\n"
     ]
    }
   ],
   "source": [
    "demo(\"1 I tweet = tweet\", ONCE(I)(tweet) == tweet)"
   ]
  },
  {
   "cell_type": "markdown",
   "id": "60e7aff3",
   "metadata": {},
   "source": [
    "Identity is a bit boring, however, because the n-fold composition of `I` is always `I`, even for n = 0. The above example doesn't really prove our function is doing anything interesting. Let's cheat a bit with some string ops (note, this is polluting LC with some Python, but it's just for demonstration):\n"
   ]
  },
  {
   "cell_type": "code",
   "execution_count": 40,
   "id": "a059440e",
   "metadata": {},
   "outputs": [],
   "source": [
    "λ = \"λ\"\n",
    "yell = lambda s: str(s) + \"!\""
   ]
  },
  {
   "cell_type": "code",
   "execution_count": 41,
   "id": "d61b0ff6",
   "metadata": {
    "lines_to_next_cell": 2,
    "scrolled": true
   },
   "outputs": [
    {
     "name": "stdout",
     "output_type": "stream",
     "text": [
      "True \u001b[92m✔\u001b[0m 0 yell λ = λ\n",
      "True \u001b[92m✔\u001b[0m 1 yell λ = yell λ = λ!\n"
     ]
    }
   ],
   "source": [
    "demo(\"0 yell λ = λ\", ZERO(yell)(λ) == \"λ\")\n",
    "demo(\"1 yell λ = yell λ = λ!\", ONCE(yell)(λ) == \"λ!\")"
   ]
  },
  {
   "cell_type": "markdown",
   "id": "8557fbaa",
   "metadata": {},
   "source": [
    "we could also hard-code `TWICE`"
   ]
  },
  {
   "cell_type": "code",
   "execution_count": 42,
   "id": "b80dbc8c",
   "metadata": {},
   "outputs": [
    {
     "name": "stdout",
     "output_type": "stream",
     "text": [
      "\n",
      "\u001b[1m\u001b[4m 2 := λfx.f(fx) \u001b[0m\n",
      "\n"
     ]
    }
   ],
   "source": [
    "header(\"2 := λfx.f(fx)\")\n",
    "TWICE = lambda fn: lambda x: fn(fn(x))"
   ]
  },
  {
   "cell_type": "code",
   "execution_count": 43,
   "id": "acc1a1d8",
   "metadata": {
    "lines_to_next_cell": 2
   },
   "outputs": [
    {
     "name": "stdout",
     "output_type": "stream",
     "text": [
      "True \u001b[92m✔\u001b[0m 2 yell λ = yell (yell λ) = λ!!\n"
     ]
    }
   ],
   "source": [
    "demo(\"2 yell λ = yell (yell λ) = λ!!\", TWICE(yell)(λ) == \"λ!!\")"
   ]
  },
  {
   "cell_type": "markdown",
   "id": "7f4ed163",
   "metadata": {},
   "source": [
    "### Successor\n",
    "\n",
    "This hard-coding works, but is very limiting. We can't do true arithmetic like this, where operations on numbers generate other numbers. What we need is a way to count up."
   ]
  },
  {
   "cell_type": "code",
   "execution_count": 44,
   "id": "ddb4853f",
   "metadata": {},
   "outputs": [
    {
     "name": "stdout",
     "output_type": "stream",
     "text": [
      "\n",
      "\u001b[1m\u001b[4m SUCCESSOR \u001b[0m\n",
      "\n"
     ]
    }
   ],
   "source": [
    "header(\"SUCCESSOR\")"
   ]
  },
  {
   "cell_type": "code",
   "execution_count": 45,
   "id": "8e70f51e",
   "metadata": {
    "lines_to_next_cell": 2
   },
   "outputs": [
    {
     "name": "stdout",
     "output_type": "stream",
     "text": [
      "\n",
      "\u001b[1m\u001b[4m SUCCESSOR := λfnx.f(nfx) \u001b[0m\n",
      "\n"
     ]
    }
   ],
   "source": [
    "header(\"SUCCESSOR := λfnx.f(nfx)\")\n",
    "SUCCESSOR = lambda num: lambda fn: lambda x: fn(num(fn)(x))"
   ]
  },
  {
   "cell_type": "markdown",
   "id": "63561171",
   "metadata": {},
   "source": [
    "Don't get lost in the weeds. All we are saying is that the successor of `n` does `n` compositions of `f` to a value `x`, and then it does _one more_ application of `f` to the result. Therefore, it ends up doing 1 + n compositions of `f` in total."
   ]
  },
  {
   "cell_type": "code",
   "execution_count": 46,
   "id": "66675bec",
   "metadata": {},
   "outputs": [],
   "source": [
    "newOnce = SUCCESSOR(ZERO)\n",
    "newTwice = SUCCESSOR(SUCCESSOR(ZERO))  # we can use multiple successors on zero, or…\n",
    "newThrice = SUCCESSOR(newTwice)  # …apply successor to already-obtained numbers."
   ]
  },
  {
   "cell_type": "code",
   "execution_count": 47,
   "id": "d228cae5",
   "metadata": {
    "lines_to_next_cell": 2
   },
   "outputs": [
    {
     "name": "stdout",
     "output_type": "stream",
     "text": [
      "True \u001b[92m✔\u001b[0m 1 yell λ = λ!\n",
      "True \u001b[92m✔\u001b[0m 2 yell λ = λ!!\n",
      "True \u001b[92m✔\u001b[0m 3 yell λ = λ!!!\n"
     ]
    }
   ],
   "source": [
    "demo(\"1 yell λ = λ!\", newOnce(yell)(λ) == \"λ!\")\n",
    "demo(\"2 yell λ = λ!!\", newTwice(yell)(λ) == \"λ!!\")\n",
    "demo(\"3 yell λ = λ!!!\", newThrice(yell)(λ) == \"λ!!!\")"
   ]
  },
  {
   "cell_type": "markdown",
   "id": "d81300cc",
   "metadata": {},
   "source": [
    "### Composition and Point-Free Notation\n",
    "\n",
    "There is another way to write successor. Point-free (some joke \"point-less\") notation means to define a function purely as a combination of other functions, without explicitly writing final arguments. Sometimes this style reveals what a function *is* rather than what explain what it *does*. Other times it can be abused to produce incomprehensible gibberish. Successor is a reasonable candidate for it, however.\n",
    "\n",
    "We are doing n-fold compositions, so let's define an actual `compose` function to help. Composition is often notated as `∘` in infix position: `(f ∘ g) x = f(g(x))`. However, Lambda Calculus only includes prefix position function application. Smullyan named this the Bluebird after Curry's `B` combinator."
   ]
  },
  {
   "cell_type": "code",
   "execution_count": 48,
   "id": "b5f55a7e",
   "metadata": {},
   "outputs": [
    {
     "name": "stdout",
     "output_type": "stream",
     "text": [
      "\n",
      "\u001b[1m\u001b[4m Bluebird := B := (∘) := compose := λfgx.f(gx) \u001b[0m\n",
      "\n"
     ]
    }
   ],
   "source": [
    "header(\"Bluebird := B := (∘) := compose := λfgx.f(gx)\")\n",
    "compose = lambda f: lambda g: lambda x: f(g(x))\n",
    "B = compose\n",
    "Bluebird = B"
   ]
  },
  {
   "cell_type": "code",
   "execution_count": 49,
   "id": "6bba3ae2",
   "metadata": {
    "scrolled": true
   },
   "outputs": [
    {
     "name": "stdout",
     "output_type": "stream",
     "text": [
      "True \u001b[92m✔\u001b[0m (B NOT NOT)  T =  NOT (NOT T)\n",
      "True \u001b[92m✔\u001b[0m (B yell NOT) F = yell (NOT F)\n"
     ]
    }
   ],
   "source": [
    "demo(\"(B NOT NOT)  T =  NOT (NOT T)\", (B(NOT)(NOT))(T) == NOT(NOT(T)) == T)\n",
    "demo(\"(B yell NOT) F = yell (NOT F)\", (B(yell)(NOT))(F) == yell(NOT(F)) == str(T) + \"!\")"
   ]
  },
  {
   "cell_type": "markdown",
   "id": "01b2de36",
   "metadata": {},
   "source": [
    "Now that we have an actual composition function, we can define successor without mentioning the final `x` value argument."
   ]
  },
  {
   "cell_type": "code",
   "execution_count": 50,
   "id": "91fc3e92",
   "metadata": {
    "lines_to_next_cell": 2
   },
   "outputs": [
    {
     "name": "stdout",
     "output_type": "stream",
     "text": [
      "\n",
      "\u001b[1m\u001b[4m SUCC := λnf.f∘(nf) = λnf.Bf(nf) \u001b[0m\n",
      "\n"
     ]
    }
   ],
   "source": [
    "header(\"SUCC := λnf.f∘(nf) = λnf.Bf(nf)\")\n",
    "SUCC = lambda num: lambda fn: compose(fn)(num(fn))"
   ]
  },
  {
   "cell_type": "markdown",
   "id": "529e1669",
   "metadata": {},
   "source": [
    "This is just a terse way of repeating what we already know: if a given `n` composes some function `f` n times, then the successor of n is a function which composes one additional `f`, for a total of 1 + n compositions."
   ]
  },
  {
   "cell_type": "code",
   "execution_count": 51,
   "id": "1c3170b3",
   "metadata": {},
   "outputs": [],
   "source": [
    "n0 = ZERO\n",
    "n1 = SUCC(n0)\n",
    "n2 = SUCC(SUCC(n0))\n",
    "n3 = SUCC(SUCC(SUCC(n0)))\n",
    "n4 = SUCC(n3)"
   ]
  },
  {
   "cell_type": "code",
   "execution_count": 52,
   "id": "e41492a9",
   "metadata": {
    "lines_to_next_cell": 2
   },
   "outputs": [
    {
     "name": "stdout",
     "output_type": "stream",
     "text": [
      "True \u001b[92m✔\u001b[0m 1 yell λ = λ!\n",
      "True \u001b[92m✔\u001b[0m 2 yell λ = λ!!\n",
      "True \u001b[92m✔\u001b[0m 3 yell λ = λ!!!\n",
      "True \u001b[92m✔\u001b[0m 4 yell λ = λ!!!!\n"
     ]
    }
   ],
   "source": [
    "demo(\"1 yell λ = λ!\", n1(yell)(λ) == \"λ!\")\n",
    "demo(\"2 yell λ = λ!!\", n2(yell)(λ) == \"λ!!\")\n",
    "demo(\"3 yell λ = λ!!!\", n3(yell)(λ) == \"λ!!!\")\n",
    "demo(\"4 yell λ = λ!!!!\", n4(yell)(λ) == \"λ!!!!\")"
   ]
  },
  {
   "cell_type": "markdown",
   "id": "04ff1c3e",
   "metadata": {},
   "source": [
    "### Arithemtic\n",
    "\n",
    "#### Addition\n",
    "\n",
    "Things will get pretty slow if we can only increment by 1. Let's add addition."
   ]
  },
  {
   "cell_type": "code",
   "execution_count": 53,
   "id": "08b660df",
   "metadata": {
    "lines_to_next_cell": 2
   },
   "outputs": [
    {
     "name": "stdout",
     "output_type": "stream",
     "text": [
      "\n",
      "\u001b[1m\u001b[4m ADD := λab.a(succ)b \u001b[0m\n",
      "\n"
     ]
    }
   ],
   "source": [
    "header(\"ADD := λab.a(succ)b\")\n",
    "ADD = lambda numA: lambda numB: numA(SUCC)(numB)"
   ]
  },
  {
   "cell_type": "markdown",
   "id": "5f51683e",
   "metadata": {},
   "source": [
    "Aha, addition is just the Ath successor of B. Makes sense. For example, `ADD 3 2 = 3 SUCC 2`, which could be read as \"thrice successor of twice\"."
   ]
  },
  {
   "cell_type": "code",
   "execution_count": 54,
   "id": "0a04c92a",
   "metadata": {
    "lines_to_next_cell": 2
   },
   "outputs": [],
   "source": [
    "n5 = ADD(n2)(n3)\n",
    "n6 = ADD(n3)(n3)"
   ]
  },
  {
   "cell_type": "code",
   "execution_count": 55,
   "id": "815672e1",
   "metadata": {
    "lines_to_next_cell": 2,
    "scrolled": true
   },
   "outputs": [
    {
     "name": "stdout",
     "output_type": "stream",
     "text": [
      "True \u001b[92m✔\u001b[0m ADD 5 2 yell λ = λ!!!!!!!\n",
      "True \u001b[92m✔\u001b[0m ADD 0 3 yell λ = λ!!!\n",
      "True \u001b[92m✔\u001b[0m ADD 2 2 = 4\n"
     ]
    }
   ],
   "source": [
    "demo(\"ADD 5 2 yell λ = λ!!!!!!!\", ADD(n5)(n2)(yell)(λ) == \"λ!!!!!!!\")\n",
    "demo(\"ADD 0 3 yell λ = λ!!!\", ADD(n0)(n3)(yell)(λ) == \"λ!!!\")\n",
    "demo(\"ADD 2 2 = 4\", ADD(n2)(n2)(yell)(λ) == n4(yell)(λ))"
   ]
  },
  {
   "cell_type": "markdown",
   "id": "279b0114",
   "metadata": {},
   "source": [
    "These equivalence checks using `yell` and `'λ'` are a bit verbose. It's annoying, but a mathematical truth, that there can be no general algorithm to decide if two functions are equivalent – and we cannot rely on Python function equality because we are generating independent function objects. Since `yell` and `'λ'` are already impure non-LC code, we might as well go all the way and define `church` and `pynum` to convert between Church encodings and Python numbers."
   ]
  },
  {
   "cell_type": "code",
   "execution_count": 56,
   "id": "22dfbe36",
   "metadata": {},
   "outputs": [
    {
     "name": "stdout",
     "output_type": "stream",
     "text": [
      "\n",
      "\u001b[1m\u001b[4m LC <-> Python: church & pynum \u001b[0m\n",
      "\n"
     ]
    }
   ],
   "source": [
    "header(\"LC <-> Python: church & pynum\")"
   ]
  },
  {
   "cell_type": "code",
   "execution_count": 57,
   "id": "fea9f560",
   "metadata": {},
   "outputs": [],
   "source": [
    "def church(n: int):\n",
    "    \"\"\"Convert python integer to Church encodings\"\"\"\n",
    "    return n0 if n == 0 else SUCC(church(n - 1))"
   ]
  },
  {
   "cell_type": "code",
   "execution_count": 58,
   "id": "2e782936",
   "metadata": {},
   "outputs": [],
   "source": [
    "def pynum(c):\n",
    "    \"\"\"Convert Curch encodings to python integer\"\"\"\n",
    "    return c(lambda x: x + 1)(0)"
   ]
  },
  {
   "cell_type": "code",
   "execution_count": 59,
   "id": "8f9ed66e",
   "metadata": {
    "lines_to_next_cell": 2
   },
   "outputs": [
    {
     "name": "stdout",
     "output_type": "stream",
     "text": [
      "True \u001b[92m✔\u001b[0m church(5) = n5\n",
      "True \u001b[92m✔\u001b[0m pynum(n5) === 5\n",
      "True \u001b[92m✔\u001b[0m pynum(church(2)) === 2\n"
     ]
    }
   ],
   "source": [
    "demo(\"church(5) = n5\", church(5)(yell)(λ) == n5(yell)(λ))\n",
    "demo(\"pynum(n5) === 5\", pynum(n5) == 5)\n",
    "demo(\"pynum(church(2)) === 2\", pynum(church(2)) == 2)"
   ]
  },
  {
   "attachments": {},
   "cell_type": "markdown",
   "id": "818789b5",
   "metadata": {},
   "source": [
    "#### Multiplication\n",
    "\n",
    "Back to math. How about multiplication?"
   ]
  },
  {
   "cell_type": "code",
   "execution_count": 60,
   "id": "770f89bf",
   "metadata": {
    "lines_to_next_cell": 2
   },
   "outputs": [
    {
     "name": "stdout",
     "output_type": "stream",
     "text": [
      "\n",
      "\u001b[1m\u001b[4m MULT := λab.a∘b = compose \u001b[0m\n",
      "\n"
     ]
    }
   ],
   "source": [
    "header(\"MULT := λab.a∘b = compose\")\n",
    "MULT = compose"
   ]
  },
  {
   "attachments": {},
   "cell_type": "markdown",
   "id": "12126ae9",
   "metadata": {},
   "source": [
    "How beautiful! Multiplication is the composition of numbers. For example, `MULT 3 2 = 3 ∘ 2`, which could be read as \"thrice of twice\", or \"three of (two of (someFn))\". If you compose a function `f` two times — `f ∘ f` — and then you compose that result three times — `(f∘f) ∘ (f∘f) ∘ (f∘f)` — you get the six-fold composition of f: `f ∘ f ∘ f ∘ f ∘ f ∘ f`. It helps to know that composition is associative — `f ∘ (g ∘ h) = (f ∘ g) ∘ h`."
   ]
  },
  {
   "cell_type": "code",
   "execution_count": 61,
   "id": "75214c47",
   "metadata": {},
   "outputs": [
    {
     "name": "stdout",
     "output_type": "stream",
     "text": [
      "True \u001b[92m✔\u001b[0m MULT 1 5 = 5\n",
      "True \u001b[92m✔\u001b[0m MULT 3 2 = 6\n",
      "True \u001b[92m✔\u001b[0m MULT 4 0 = 0\n",
      "True \u001b[92m✔\u001b[0m MULT 6 2 yell λ = λ!!!!!!!!!!!!\n"
     ]
    }
   ],
   "source": [
    "demo(\"MULT 1 5 = 5\", pynum(MULT(n1)(n5)) == 5)\n",
    "demo(\"MULT 3 2 = 6\", pynum(MULT(n3)(n2)) == 6)\n",
    "demo(\"MULT 4 0 = 0\", pynum(MULT(n4)(n0)) == 0)\n",
    "demo(\"MULT 6 2 yell λ = λ!!!!!!!!!!!!\", MULT(n6)(n2)(yell)(λ) == \"λ!!!!!!!!!!!!\")"
   ]
  },
  {
   "cell_type": "code",
   "execution_count": 62,
   "id": "9bb5cc40",
   "metadata": {
    "lines_to_next_cell": 2
   },
   "outputs": [],
   "source": [
    "n8 = MULT(n4)(n2)\n",
    "n9 = SUCC(n8)"
   ]
  },
  {
   "attachments": {},
   "cell_type": "markdown",
   "id": "81d07cec",
   "metadata": {},
   "source": [
    "#### Exponentiation\n",
    "\n",
    "Exponentiation is remarkably clean too. When we say 2^3, we are saying \"multiply two by itself three times\"; or putting it another way, \"twice of twice of twice\". So for any base and power, the result is the power-fold composition of the base:"
   ]
  },
  {
   "cell_type": "code",
   "execution_count": 63,
   "id": "cb74fad5",
   "metadata": {},
   "outputs": [
    {
     "name": "stdout",
     "output_type": "stream",
     "text": [
      "\n",
      "\u001b[1m\u001b[4m Thrush := POW := λab.ba \u001b[0m\n",
      "\n"
     ]
    }
   ],
   "source": [
    "header(\"Thrush := POW := λab.ba\")\n",
    "POW = lambda numA: lambda numB: numB(numA)"
   ]
  },
  {
   "attachments": {},
   "cell_type": "markdown",
   "id": "2fd2d3ad",
   "metadata": {},
   "source": [
    "As you can see, we also call this combinator the Thrush. Unfortunately we have a name collision as we already defined `T` as the church encoding of true, so we omit the single-letter version of this combinator. There is another letter sometimes reserved for true, in which case we can use `T` for Thrush; the alternate true combinator name is coming up soon."
   ]
  },
  {
   "cell_type": "markdown",
   "id": "7ef53fba",
   "metadata": {},
   "source": []
  }
 ],
 "metadata": {
  "jupytext": {
   "cell_metadata_filter": "-all",
   "main_language": "python",
   "notebook_metadata_filter": "-all"
  },
  "kernelspec": {
   "display_name": "Python 3 (ipykernel)",
   "language": "python",
   "name": "python3"
  },
  "language_info": {
   "codemirror_mode": {
    "name": "ipython",
    "version": 3
   },
   "file_extension": ".py",
   "mimetype": "text/x-python",
   "name": "python",
   "nbconvert_exporter": "python",
   "pygments_lexer": "ipython3",
   "version": "3.10.6"
  }
 },
 "nbformat": 4,
 "nbformat_minor": 5
}
